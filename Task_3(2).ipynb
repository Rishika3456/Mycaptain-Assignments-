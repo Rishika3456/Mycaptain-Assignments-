{
  "nbformat": 4,
  "nbformat_minor": 0,
  "metadata": {
    "colab": {
      "provenance": [],
      "authorship_tag": "ABX9TyMAJDbIxN3ZfT/gGyDKlZWt",
      "include_colab_link": true
    },
    "kernelspec": {
      "name": "python3",
      "display_name": "Python 3"
    },
    "language_info": {
      "name": "python"
    }
  },
  "cells": [
    {
      "cell_type": "markdown",
      "metadata": {
        "id": "view-in-github",
        "colab_type": "text"
      },
      "source": [
        "<a href=\"https://colab.research.google.com/github/Rishika3456/Mycaptain-Assignments-/blob/main/Task_3(2).ipynb\" target=\"_parent\"><img src=\"https://colab.research.google.com/assets/colab-badge.svg\" alt=\"Open In Colab\"/></a>"
      ]
    },
    {
      "cell_type": "code",
      "execution_count": null,
      "metadata": {
        "id": "cxeGAkrRB9et",
        "outputId": "850ad319-2d4a-473c-9d40-7522f6728547",
        "colab": {
          "base_uri": "https://localhost:8080/"
        }
      },
      "outputs": [
        {
          "output_type": "stream",
          "name": "stdout",
          "text": [
            "Output for list1: [12, 5, 64]\n",
            "Output for list2: [12, 14, 3]\n"
          ]
        }
      ],
      "source": [
        "# Define the function to get positive numbers from a list\n",
        "def get_positive_numbers(input_list):\n",
        "    return [num for num in input_list if num > 0]\n",
        "\n",
        "# Test the function with given input lists\n",
        "list1 = [12, -7, 5, 64, -14]\n",
        "list2 = [12, 14, -95, 3]\n",
        "\n",
        "# Print the output\n",
        "print(\"Output for list1:\", get_positive_numbers(list1))\n",
        "print(\"Output for list2:\", get_positive_numbers(list2))"
      ]
    }
  ]
}